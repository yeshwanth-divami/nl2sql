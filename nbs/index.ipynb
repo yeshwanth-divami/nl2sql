{
 "cells": [
  {
   "cell_type": "code",
   "execution_count": null,
   "id": "698b6b5e",
   "metadata": {},
   "outputs": [],
   "source": [
    "from nl2sql.health import health_check"
   ]
  },
  {
   "cell_type": "code",
   "execution_count": null,
   "id": "d667b4aa",
   "metadata": {},
   "outputs": [],
   "source": [
    "health_check()"
   ]
  }
 ],
 "metadata": {
  "language_info": {
   "name": "python"
  }
 },
 "nbformat": 4,
 "nbformat_minor": 5
}
