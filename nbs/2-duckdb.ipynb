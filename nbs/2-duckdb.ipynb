{
 "cells": [
  {
   "cell_type": "code",
   "execution_count": 1,
   "id": "6443828d",
   "metadata": {},
   "outputs": [
    {
     "name": "stdout",
     "output_type": "stream",
     "text": [
      "env: AD_MAX_ITEMS=1000\n",
      "env: AD_SHOW_FULL_STRINGS=1\n"
     ]
    }
   ],
   "source": [
    "%reload_ext autoreload\n",
    "%autoreload 2\n",
    "%env AD_MAX_ITEMS=1000\n",
    "%env AD_SHOW_FULL_STRINGS=1\n",
    "from torch_snippets import *\n"
   ]
  },
  {
   "cell_type": "code",
   "execution_count": 2,
   "id": "d6fa3570",
   "metadata": {},
   "outputs": [],
   "source": [
    "# import all csv files as duckdb connection\n",
    "root = P(\"/Users/yeshwanth/Code/Divami/foundry/nl2sql/data/ipl 2008-2024\")\n",
    "import duckdb, os\n",
    "\n",
    "database = root / \"data.duckdb\"\n",
    "\n",
    "if not database.exists():\n",
    "    con = duckdb.connect(database=database)\n",
    "    for filename in os.listdir(root):\n",
    "        if filename.endswith(\".csv\"):\n",
    "            table_name = filename[:-4]\n",
    "            con.execute(\n",
    "                f\"CREATE TABLE {table_name} AS SELECT * FROM read_csv_auto('{root}/{filename}')\"\n",
    "            )\n"
   ]
  },
  {
   "cell_type": "code",
   "execution_count": 3,
   "id": "3c722672",
   "metadata": {},
   "outputs": [],
   "source": [
    "from functools import lru_cache\n",
    "\n",
    "\n",
    "class DuckDBSchemaExplorer:\n",
    "    def __init__(self, database=None):\n",
    "        self.database = database\n",
    "        self.conn = duckdb.connect(database=database)\n",
    "        self.tables = AD({\n",
    "            t[0]: self.describe(t[0])\n",
    "            for t in self.conn.execute(\"SHOW TABLES;\").fetchall()\n",
    "        })\n",
    "\n",
    "    @lru_cache\n",
    "    def unique_values_in_column(self, table_name, column_name):\n",
    "        nunique = self.conn.execute(\n",
    "            f\"SELECT count(DISTINCT {column_name}) FROM {table_name};\"\n",
    "        ).fetchall()[0][0]\n",
    "        unique = None\n",
    "        if nunique < 30:\n",
    "            unique = [\n",
    "                v[0]\n",
    "                for v in self.conn.execute(\n",
    "                    f\"SELECT DISTINCT {column_name} FROM {table_name};\"\n",
    "                ).fetchall()\n",
    "            ]\n",
    "        return nunique, unique\n",
    "\n",
    "    def describe(self, table_name):\n",
    "        df = pd.DataFrame(\n",
    "            self.conn.execute(f\"DESCRIBE {table_name};\").fetchall(),\n",
    "            columns=[\"column_name\", \"data_type\", \"nullable\", \"key\", \"default\", \"extra\"],\n",
    "        )\n",
    "        df[\"unique_values\"] = df[\"column_name\"].apply(\n",
    "            lambda col: self.unique_values_in_column(table_name, col)[0]\n",
    "        )\n",
    "        df[\"sample_values\"] = df[\"column_name\"].apply(\n",
    "            lambda col: self.unique_values_in_column(table_name, col)[1]\n",
    "        )\n",
    "        return df.to_dict(orient=\"records\")\n",
    "\n",
    "    def query(self, query: str):\n",
    "        return self.conn.execute(query).fetchall()"
   ]
  },
  {
   "cell_type": "code",
   "execution_count": 4,
   "id": "633a228c",
   "metadata": {},
   "outputs": [],
   "source": [
    "# create a duckdb connection\n",
    "schema_explorer = DuckDBSchemaExplorer(database)\n",
    "system_prompt = str(schema_explorer.tables)"
   ]
  },
  {
   "cell_type": "code",
   "execution_count": 5,
   "id": "b428a70f",
   "metadata": {},
   "outputs": [],
   "source": [
    "from pydantic_ai import Agent, RunContext\n",
    "from dataclasses import dataclass\n",
    "from pydantic import BaseModel\n",
    "\n",
    "\n",
    "@dataclass\n",
    "class Deps:\n",
    "    schema_explorer: DuckDBSchemaExplorer\n",
    "\n",
    "\n",
    "class Output(BaseModel):\n",
    "    result: str\n",
    "    sql_query: str\n",
    "\n",
    "\n",
    "agent = Agent(\n",
    "    \"google-gla:gemini-2.5-flash\",\n",
    "    system_prompt=system_prompt,\n",
    "    deps_type=Deps,\n",
    "    output_type=Output,\n",
    ")\n",
    "\n",
    "\n",
    "@agent.tool\n",
    "def run_query(ctx: RunContext, query: str) -> str:\n",
    "    return ctx.deps.schema_explorer.query(query)\n"
   ]
  },
  {
   "cell_type": "code",
   "execution_count": 6,
   "id": "e381d4a4",
   "metadata": {},
   "outputs": [],
   "source": [
    "async def main(query):\n",
    "    x = await agent.run(query, deps=Deps(schema_explorer))\n",
    "    return AD(x.output.model_dump())"
   ]
  },
  {
   "cell_type": "code",
   "execution_count": null,
   "id": "7ea6b95d",
   "metadata": {},
   "outputs": [
    {
     "data": {
      "text/plain": [
       "\n",
       "```↯ AttrDict ↯\n",
       "result - V Kohli scored 973 runs in 2016, which is the most runs scored in that season. (🏷️ str)\n",
       "sql_query - SELECT d.batter, SUM(d.batsman_runs) AS total_runs FROM deliveries d JOIN matches m ON d.match_id = m.id WHERE m.season = '2016' GROUP BY d.batter ORDER BY total_runs DESC LIMIT 1 (🏷️ str)\n",
       "\n",
       "```"
      ]
     },
     "execution_count": 28,
     "metadata": {},
     "output_type": "execute_result"
    }
   ],
   "source": [
    "await main(\"Who scored most runs in 2016\")  # 2008 - 2024"
   ]
  },
  {
   "cell_type": "code",
   "execution_count": 27,
   "id": "7b2ef115",
   "metadata": {},
   "outputs": [
    {
     "data": {
      "text/plain": [
       "\n",
       "```↯ AttrDict ↯\n",
       "result - SP Narine took the most wickets for a single team, with 200 wickets for Kolkata Knight Riders. (🏷️ str)\n",
       "sql_query - SELECT bowler, bowling_team, COUNT(is_wicket) AS wickets FROM deliveries WHERE is_wicket = 1 GROUP BY bowler, bowling_team ORDER BY wickets DESC LIMIT 1 (🏷️ str)\n",
       "\n",
       "```"
      ]
     },
     "execution_count": 27,
     "metadata": {},
     "output_type": "execute_result"
    }
   ],
   "source": [
    "await main(\"Who took most wickets for a single team?\")"
   ]
  },
  {
   "cell_type": "code",
   "execution_count": 7,
   "id": "9a19dcee",
   "metadata": {},
   "outputs": [
    {
     "data": {
      "text/plain": [
       "\n",
       "```↯ AttrDict ↯\n",
       "result - SR Tendulkar scored the most runs in the 2010 season with 618 runs. (🏷️ str)\n",
       "sql_query - SELECT d.batter, SUM(d.batsman_runs) AS total_runs FROM deliveries d JOIN matches m ON d.match_id = m.id WHERE m.season = '2009/10' GROUP BY d.batter ORDER BY total_runs DESC LIMIT 1 (🏷️ str)\n",
       "\n",
       "```"
      ]
     },
     "execution_count": 7,
     "metadata": {},
     "output_type": "execute_result"
    }
   ],
   "source": [
    "await main(\"Who scored the most runs in 2010?\")"
   ]
  },
  {
   "cell_type": "code",
   "execution_count": 8,
   "id": "f72387a4",
   "metadata": {},
   "outputs": [
    {
     "data": {
      "text/plain": [
       "\n",
       "```↯ AttrDict ↯\n",
       "result - ↓\n",
       "  ```\n",
       "  Here is a list of the number of matches each team lost with either fewer than 5 runs margin or less than 3 wickets margin:\n",
       "  \n",
       "  Mumbai Indians: 9 matches\n",
       "  Kolkata Knight Riders: 9 matches\n",
       "  Chennai Super Kings: 6 matches\n",
       "  Rajasthan Royals: 5 matches\n",
       "  Sunrisers Hyderabad: 5 matches\n",
       "  Delhi Daredevils: 5 matches\n",
       "  Kings XI Punjab: 5 matches\n",
       "  Royal Challengers Bangalore: 3 matches\n",
       "  Deccan Chargers: 3 matches\n",
       "  Rising Pune Supergiants: 2 matches\n",
       "  Lucknow Super Giants: 2 matches\n",
       "  Punjab Kings: 2 matches\n",
       "  Rising Pune Supergiant: 1 match\n",
       "  Royal Challengers Bengaluru: 1 match\n",
       "  Pune Warriors: 1 match\n",
       "  Delhi Capitals: 1 match\n",
       "  Gujarat Titans: 1 match\n",
       "  Gujarat Lions: 1 match\n",
       "  ``` (🏷️ Multiline str)\n",
       "sql_query - SELECT CASE WHEN T1.team1 = T1.winner THEN T1.team2 ELSE T1.team1 END AS losing_team, COUNT(*) AS matches_lost FROM matches AS T1 WHERE (T1.result = 'runs' AND CAST(T1.result_margin AS INT) < 5) OR (T1.result = 'wickets' AND CAST(T1.result_margin AS INT) < 3) GROUP BY losing_team ORDER BY matches_lost DESC; (🏷️ str)\n",
       "\n",
       "```"
      ]
     },
     "execution_count": 8,
     "metadata": {},
     "output_type": "execute_result"
    }
   ],
   "source": [
    "await main(\n",
    "    \"List the number of matches every team lost with either fewer than 5 runs margin or less than 3 wickets margin\"\n",
    ")"
   ]
  },
  {
   "cell_type": "code",
   "execution_count": null,
   "id": "628669f3",
   "metadata": {},
   "outputs": [
    {
     "data": {
      "text/plain": [
       "\n",
       "```↯ AttrDict ↯\n",
       "result - SR Watson and WP Saha are the batsmen who scored a century in an IPL final. (🏷️ str)\n",
       "sql_query - SELECT DISTINCT d.batter FROM deliveries AS d INNER JOIN matches AS m ON d.match_id = m.id WHERE m.match_type = 'Final' GROUP BY d.match_id, d.batter HAVING SUM(d.batsman_runs) >= 100; (🏷️ str)\n",
       "\n",
       "```"
      ]
     },
     "execution_count": 15,
     "metadata": {},
     "output_type": "execute_result"
    }
   ],
   "source": [
    "await main(\"Who are the batsmen who scored a century in IPL final\")"
   ]
  },
  {
   "cell_type": "code",
   "execution_count": 24,
   "id": "40ace4ac",
   "metadata": {},
   "outputs": [
    {
     "data": {
      "text/plain": [
       "\n",
       "```↯ AttrDict ↯\n",
       "result - ↓\n",
       "  ```\n",
       "  Here are the best all-rounders in IPL based on your criteria (at least 50 overs bowled, at least 500 runs scored, and ranked by (1 / bowling economy) * batting strike rate):\n",
       "  \n",
       "  1. SP Narine - All-rounder performance: 23.06 (Runs: 1534, Batting SR: 155.89, Overs: 691.0, Bowling Economy: 6.76)\n",
       "  2. Rashid Khan - All-rounder performance: 22.22 (Runs: 545, Batting SR: 153.52, Overs: 483.5, Bowling Economy: 6.91)\n",
       "  3. MM Ali - All-rounder performance: 19.52 (Runs: 1162, Batting SR: 136.87, Overs: 128.33, Bowling Economy: 7.01)\n",
       "  4. CH Morris - All-rounder performance: 18.90 (Runs: 618, Batting SR: 149.64, Overs: 300.17, Bowling Economy: 7.92)\n",
       "  5. YK Pathan - All-rounder performance: 18.88 (Runs: 3222, Batting SR: 138.05, Overs: 197.33, Bowling Economy: 7.31)\n",
       "  6. Harbhajan Singh - All-rounder performance: 18.61 (Runs: 833, Batting SR: 130.97, Overs: 582.67, Bowling Economy: 7.04)\n",
       "  7. GJ Maxwell - All-rounder performance: 18.46 (Runs: 2772, Batting SR: 150.49, Overs: 160.83, Bowling Economy: 8.15)\n",
       "  8. CH Gayle - All-rounder performance: 18.32 (Runs: 4997, Batting SR: 142.12, Overs: 97.33, Bowling Economy: 7.76)\n",
       "  9. SK Raina - All-rounder performance: 18.04 (Runs: 5536, Batting SR: 132.54, Overs: 155.0, Bowling Economy: 7.35)\n",
       "  10. AD Russell - All-rounder performance: 18.01 (Runs: 2488, Batting SR: 164.22, Overs: 295.17, Bowling Economy: 9.12)\n",
       "  11. KH Pandya - All-rounder performance: 17.61 (Runs: 1647, Batting SR: 127.97, Overs: 363.83, Bowling Economy: 7.27)\n",
       "  12. SR Watson - All-rounder performance: 17.43 (Runs: 3880, Batting SR: 134.16, Overs: 356.17, Bowling Economy: 7.70)\n",
       "  13. AR Patel - All-rounder performance: 17.23 (Runs: 1653, Batting SR: 125.42, Overs: 525.33, Bowling Economy: 7.28)\n",
       "  14. JA Morkel - All-rounder performance: 17.12 (Runs: 975, Batting SR: 136.94, Overs: 301.17, Bowling Economy: 8.00)\n",
       "  15. C Green - All-rounder performance: 17.09 (Runs: 707, Batting SR: 149.79, Overs: 77.0, Bowling Economy: 8.77)\n",
       "  16. ST Jayasuriya - All-rounder performance: 16.98 (Runs: 768, Batting SR: 134.03, Overs: 50.17, Bowling Economy: 7.89)\n",
       "  17. KA Pollard - All-rounder performance: 16.88 (Runs: 3437, Batting SR: 140.46, Overs: 264.33, Bowling Economy: 8.32)\n",
       "  18. Yuvraj Singh - All-rounder performance: 16.81 (Runs: 2754, Batting SR: 124.78, Overs: 147.0, Bowling Economy: 7.42)\n",
       "  19. STR Binny - All-rounder performance: 16.78 (Runs: 880, Batting SR: 125.71, Overs: 101.83, Bowling Economy: 7.49)\n",
       "  20. JP Duminy - All-rounder performance: 16.66 (Runs: 2029, Batting SR: 120.77, Overs: 116.83, Bowling Economy: 7.25)\n",
       "  21. R Tewatia - All-rounder performance: 16.61 (Runs: 1013, Batting SR: 128.55, Overs: 144.33, Bowling Economy: 7.74)\n",
       "  22. PJ Cummins - All-rounder performance: 16.58 (Runs: 515, Batting SR: 143.45, Overs: 228.33, Bowling Economy: 8.65)\n",
       "  23. R Ashwin - All-rounder performance: 16.45 (Runs: 800, Batting SR: 114.61, Overs: 779.83, Bowling Economy: 6.97)\n",
       "  24. RA Jadeja - All-rounder performance: 16.43 (Runs: 2959, Batting SR: 124.43, Overs: 649.17, Bowling Economy: 7.57)\n",
       "  25. Shakib Al Hasan - All-rounder performance: 16.19 (Runs: 795, Batting SR: 119.55, Overs: 252.5, Bowling Economy: 7.38)\n",
       "  26. A Symonds - All-rounder performance: 16.17 (Runs: 974, Batting SR: 124.71, Overs: 90.0, Bowling Economy: 7.71)\n",
       "  27. RG Sharma - All-rounder performance: 16.11 (Runs: 6630, Batting SR: 127.92, Overs: 58.17, Bowling Economy: 7.94)\n",
       "  28. HH Pandya - All-rounder performance: 15.74 (Runs: 2534, Batting SR: 139.69, Overs: 247.5, Bowling Economy: 8.87)\n",
       "  29. MC Henriques - All-rounder performance: 15.65 (Runs: 1000, Batting SR: 124.84, Overs: 163.17, Bowling Economy: 7.98)\n",
       "  30. DJ Bravo - All-rounder performance: 15.49 (Runs: 1560, Batting SR: 125.10, Overs: 549.33, Bowling Economy: 8.08)\n",
       "  31. MR Marsh - All-rounder performance: 15.39 (Runs: 665, Batting SR: 125.0, Overs: 98.83, Bowling Economy: 8.12)\n",
       "  32. BA Stokes - All-rounder performance: 15.34 (Runs: 935, Batting SR: 130.22, Overs: 120.5, Bowling Economy: 8.49)\n",
       "  33. IK Pathan - All-rounder performance: 15.17 (Runs: 1150, Batting SR: 116.75, Overs: 352.17, Bowling Economy: 7.70)\n",
       "  34. JP Faulkner - All-rounder performance: 15.06 (Runs: 527, Batting SR: 129.80, Overs: 214.5, Bowling Economy: 8.62)\n",
       "  35. DJ Hooda - All-rounder performance: 14.99 (Runs: 1466, Batting SR: 125.30, Overs: 64.0, Bowling Economy: 8.36)\n",
       "  36. DR Smith - All-rounder performance: 14.88 (Runs: 2385, Batting SR: 132.28, Overs: 92.83, Bowling Economy: 8.89)\n",
       "  37. AD Mathews - All-rounder performance: 14.85 (Runs: 724, Batting SR: 120.87, Overs: 134.5, Bowling Economy: 8.14)\n",
       "  38. MP Stoinis - All-rounder performance: 14.55 (Runs: 1866, Batting SR: 136.60, Overs: 138.5, Bowling Economy: 9.39)\n",
       "  39. SM Curran - All-rounder performance: 14.03 (Runs: 883, Batting SR: 131.20, Overs: 205.67, Bowling Economy: 9.35)\n",
       "  40. JH Kallis - All-rounder performance: 13.53 (Runs: 2427, Batting SR: 105.94, Overs: 299.83, Bowling Economy: 7.83)\n",
       "  41. PP Chawla - All-rounder performance: 13.49 (Runs: 624, Batting SR: 107.59, Overs: 649.17, Bowling Economy: 7.98)\n",
       "  42. DJ Hussey - All-rounder performance: 13.33 (Runs: 1322, Batting SR: 120.07, Overs: 53.83, Bowling Economy: 9.01)\n",
       "  43. Shahbaz Ahmed - All-rounder performance: 12.36 (Runs: 536, Batting SR: 114.78, Overs: 91.5, Bowling Economy: 9.29)\n",
       "  44. CJ Anderson - All-rounder performance: 12.34 (Runs: 538, Batting SR: 123.39, Overs: 52.5, Bowling Economy: 10.0)\n",
       "  ``` (🏷️ Multiline str)\n",
       "sql_query - WITH BattingStats AS ( SELECT batter AS player_name, SUM(batsman_runs) AS total_runs_scored, COUNT(ball) AS total_balls_faced, (CAST(SUM(batsman_runs) AS REAL) / COUNT(ball)) * 100 AS batting_strike_rate FROM deliveries GROUP BY batter HAVING SUM(batsman_runs) >= 500 ), BowlingStats AS ( SELECT bowler AS player_name, SUM(total_runs) AS total_runs_conceded, COUNT(ball) AS total_balls_bowled, (CAST(COUNT(ball) AS REAL) / 6) AS total_overs_bowled, (CAST(SUM(total_runs) AS REAL) / (CAST(COUNT(ball) AS REAL) / 6)) AS bowling_economy FROM deliveries GROUP BY bowler HAVING COUNT(ball) >= 50 * 6 ) SELECT bs.player_name, bs.total_runs_scored, bs.batting_strike_rate, bos.total_overs_bowled, bos.bowling_economy, (1 / bos.bowling_economy) * bs.batting_strike_rate AS all_rounder_performance FROM BattingStats bs JOIN BowlingStats bos ON bs.player_name = bos.player_name WHERE bos.bowling_economy > 0 ORDER BY all_rounder_performance DESC (🏷️ str)\n",
       "\n",
       "```"
      ]
     },
     "execution_count": 24,
     "metadata": {},
     "output_type": "execute_result"
    }
   ],
   "source": [
    "await main(\n",
    "    \"I want the best all rounders in IPL. Select those who bowled at least 50 overs and scored at least 500 runs. Multiply their inverse (reciprocal of) bowling economy and the strike rate and use that as criteria to measure as all rounder performance\"\n",
    ")"
   ]
  },
  {
   "cell_type": "code",
   "execution_count": null,
   "id": "d5238a80",
   "metadata": {},
   "outputs": [
    {
     "data": {
      "text/plain": [
       "\n",
       "```↯ AttrDict ↯\n",
       "result - M Muralitharan scored 20 runs. (🏷️ str)\n",
       "sql_query - SELECT SUM(batsman_runs) FROM deliveries WHERE batter = 'M Muralitharan' (🏷️ str)\n",
       "\n",
       "```"
      ]
     },
     "execution_count": 20,
     "metadata": {},
     "output_type": "execute_result"
    }
   ],
   "source": [
    "await main(\"how many runs did M Muralitharan score?\")"
   ]
  },
  {
   "cell_type": "code",
   "execution_count": null,
   "id": "9338892a",
   "metadata": {},
   "outputs": [],
   "source": []
  },
  {
   "cell_type": "code",
   "execution_count": null,
   "id": "432f8839",
   "metadata": {},
   "outputs": [],
   "source": [
    "await main(\n",
    "    \"For allrounders, because they contribute with both bat and ball, it's important to analyze their performance in both aspects. Now, What i want to understand is, if a batsman is creating a heavy impact with the strike rate then its a positive score, and if a bowler is slowing things down with a low economy rate then its a positive score for a bowler. Combining the two in terms of impact, can you rate the top ten allrounders in the history of IPL combining both their batting and bowling impact\"\n",
    ")"
   ]
  }
 ],
 "metadata": {
  "kernelspec": {
   "display_name": "Python 3 (ipykernel)",
   "language": "python",
   "name": "python3"
  }
 },
 "nbformat": 4,
 "nbformat_minor": 5
}
