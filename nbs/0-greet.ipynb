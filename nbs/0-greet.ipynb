{
 "cells": [
  {
   "cell_type": "code",
   "execution_count": null,
   "id": "47220228",
   "metadata": {},
   "outputs": [],
   "source": [
    "# | default_exp greetings"
   ]
  },
  {
   "cell_type": "code",
   "execution_count": null,
   "id": "69bef08a",
   "metadata": {},
   "outputs": [],
   "source": [
    "#| export\n",
    "from nl2sql.__pre_init__ import cli"
   ]
  },
  {
   "cell_type": "code",
   "execution_count": null,
   "id": "15ae5581",
   "metadata": {},
   "outputs": [],
   "source": [
    "# | export\n",
    "\n",
    "\n",
    "@cli.command()\n",
    "def greet_english(user) -> None:\n",
    "    \"\"\"\n",
    "    Greet the user.\n",
    "    \"\"\"\n",
    "    print(f\"Hello, {user}!\")\n",
    "\n",
    "\n",
    "@cli.command()\n",
    "def greet_spanish(user) -> None:\n",
    "    \"\"\"\n",
    "    Greet the user in Spanish.\n",
    "    \"\"\"\n",
    "    print(f\"¡Hola, {user}!\")"
   ]
  }
 ],
 "metadata": {
  "language_info": {
   "name": "python"
  }
 },
 "nbformat": 4,
 "nbformat_minor": 5
}
